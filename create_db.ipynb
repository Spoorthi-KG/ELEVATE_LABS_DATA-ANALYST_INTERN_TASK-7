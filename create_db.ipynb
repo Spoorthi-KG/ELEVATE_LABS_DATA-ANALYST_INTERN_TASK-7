{
 "cells": [
  {
   "cell_type": "code",
   "execution_count": 2,
   "id": "0593568b-137d-43a0-9d7a-652e8824eb97",
   "metadata": {},
   "outputs": [
    {
     "name": "stdout",
     "output_type": "stream",
     "text": [
      "sales_data.db created and populated.\n"
     ]
    }
   ],
   "source": [
    "# create_db.py\n",
    "import sqlite3\n",
    "\n",
    "conn = sqlite3.connect(\"sales_data.db\")\n",
    "c = conn.cursor()\n",
    "\n",
    "c.execute(\"\"\"\n",
    "CREATE TABLE IF NOT EXISTS sales (\n",
    "    id INTEGER PRIMARY KEY AUTOINCREMENT,\n",
    "    order_date TEXT,\n",
    "    product TEXT,\n",
    "    quantity INTEGER,\n",
    "    price REAL\n",
    ")\n",
    "\"\"\")\n",
    "\n",
    "rows = [\n",
    "    ('2025-09-01', 'Widget A', 3, 19.99),\n",
    "    ('2025-09-02', 'Widget B', 1, 29.99),\n",
    "    ('2025-09-03', 'Widget A', 2, 19.99),\n",
    "    ('2025-09-03', 'Widget C', 5, 9.99),\n",
    "    ('2025-09-04', 'Widget B', 2, 29.99),\n",
    "]\n",
    "\n",
    "c.executemany(\"INSERT INTO sales (order_date, product, quantity, price) VALUES (?, ?, ?, ?)\", rows)\n",
    "conn.commit()\n",
    "conn.close()\n",
    "\n",
    "print(\"sales_data.db created and populated.\")\n"
   ]
  },
  {
   "cell_type": "code",
   "execution_count": null,
   "id": "d22fb4b7-1798-4cdf-9ded-516429f4fb6b",
   "metadata": {},
   "outputs": [],
   "source": []
  }
 ],
 "metadata": {
  "kernelspec": {
   "display_name": "Python 3 (ipykernel)",
   "language": "python",
   "name": "python3"
  },
  "language_info": {
   "codemirror_mode": {
    "name": "ipython",
    "version": 3
   },
   "file_extension": ".py",
   "mimetype": "text/x-python",
   "name": "python",
   "nbconvert_exporter": "python",
   "pygments_lexer": "ipython3",
   "version": "3.13.6"
  }
 },
 "nbformat": 4,
 "nbformat_minor": 5
}
